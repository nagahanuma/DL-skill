{
 "cells": [
  {
   "cell_type": "code",
   "execution_count": 1,
   "metadata": {
    "id": "xgmxnKZvATKf"
   },
   "outputs": [],
   "source": [
    "import tensorflow as tf\n",
    "import numpy as np"
   ]
  },
  {
   "cell_type": "code",
   "execution_count": 2,
   "metadata": {
    "colab": {
     "base_uri": "https://localhost:8080/"
    },
    "id": "OtAWDaL_BSbe",
    "outputId": "fedddfe6-f089-4c5f-9069-4a8bdfdcba5c"
   },
   "outputs": [
    {
     "name": "stdout",
     "output_type": "stream",
     "text": [
      "a:  tf.Tensor(2.0, shape=(), dtype=float64)\n",
      "b:  tf.Tensor(4.0, shape=(), dtype=float64)\n",
      "Result:  tf.Tensor(4.0, shape=(), dtype=float64)\n"
     ]
    }
   ],
   "source": [
    "#area of triangle\n",
    "a = tf.constant(2, dtype = tf.float64)\n",
    "b = tf.constant(4, dtype = tf.float64)\n",
    "print('a: ', a)\n",
    "print('b: ', b)\n",
    "res = tf.math.multiply(a,b)/2\n",
    "print('Result: ', res)"
   ]
  },
  {
   "cell_type": "code",
   "execution_count": 3,
   "metadata": {
    "colab": {
     "base_uri": "https://localhost:8080/"
    },
    "id": "zO7ipok6BkVW",
    "outputId": "196c0394-97b3-47cd-fd84-df5e01bff1ef"
   },
   "outputs": [
    {
     "name": "stdout",
     "output_type": "stream",
     "text": [
      "tf.Tensor(3.0, shape=(), dtype=float32)\n"
     ]
    }
   ],
   "source": [
    "#square root\n",
    "a = 9.0\n",
    "s=tf.sqrt(a)\n",
    "print(s)"
   ]
  }
 ],
 "metadata": {
  "colab": {
   "name": "190031674-DL- skill3",
   "provenance": []
  },
  "kernelspec": {
   "display_name": "Python 3",
   "language": "python",
   "name": "python3"
  },
  "language_info": {
   "codemirror_mode": {
    "name": "ipython",
    "version": 3
   },
   "file_extension": ".py",
   "mimetype": "text/x-python",
   "name": "python",
   "nbconvert_exporter": "python",
   "pygments_lexer": "ipython3",
   "version": "3.8.5"
  }
 },
 "nbformat": 4,
 "nbformat_minor": 1
}
