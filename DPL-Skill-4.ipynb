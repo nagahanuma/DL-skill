{
 "cells": [
  {
   "cell_type": "code",
   "execution_count": 1,
   "metadata": {
    "id": "UUyZ3dc4C4a1"
   },
   "outputs": [],
   "source": [
    "#implementation on NAND and NOR gates\n",
    "import pandas as pd\n",
    "import numpy as np\n",
    "import random"
   ]
  },
  {
   "cell_type": "code",
   "execution_count": 2,
   "metadata": {
    "id": "FzkS3ygdDDIB"
   },
   "outputs": [],
   "source": [
    "def activation(summ,th):\n",
    "    if(summ >= th):\n",
    "        return 1\n",
    "    else:\n",
    "        return 0"
   ]
  },
  {
   "cell_type": "code",
   "execution_count": 3,
   "metadata": {
    "colab": {
     "base_uri": "https://localhost:8080/"
    },
    "id": "2YNXviSNDJ1V",
    "outputId": "58c05e31-ff95-416b-cfe1-8c8ea8552f80"
   },
   "outputs": [
    {
     "name": "stdout",
     "output_type": "stream",
     "text": [
      "Enter input values\n",
      "0 1 1 0\n",
      "Enter Threshold value\n",
      "4\n",
      "Neuron dosent fire\n",
      "0.7550463205933138\n"
     ]
    }
   ],
   "source": [
    "#inputs\n",
    "print(\"Enter input values\")\n",
    "x = list(map(int,input().split(\" \")))\n",
    "w = []\n",
    "\n",
    "for i in range(len(x)):\n",
    "    w.append(random.uniform(-1,1))\n",
    "\n",
    "print(\"Enter Threshold value\")\n",
    "th = float(input())\n",
    "\n",
    "summ = 0\n",
    "for i in range(len(x)):\n",
    "    summ += w[i]*x[i]\n",
    "    \n",
    "if(activation(summ,th)):\n",
    "    print(\"Neuron Fires\")\n",
    "    \n",
    "else:\n",
    "    print(\"Neuron dosent fire\")\n",
    "\n",
    "print(summ)"
   ]
  },
  {
   "cell_type": "code",
   "execution_count": 4,
   "metadata": {
    "id": "EG9Y84gnDwp0"
   },
   "outputs": [],
   "source": [
    "def logicgates(x1,x2,th):\n",
    "    if(th == \"NOR\"):\n",
    "        t = 1\n",
    "    if(th == \"NAND\"):\n",
    "        t = 1\n",
    "    if(th == \"NOR\" and x1+x2 < t):\n",
    "        return 1\n",
    "    elif(th == \"NAND\" and x1+x2<=t):\n",
    "      return 1\n",
    "    else:\n",
    "        return 0\n"
   ]
  },
  {
   "cell_type": "code",
   "execution_count": 5,
   "metadata": {
    "colab": {
     "base_uri": "https://localhost:8080/"
    },
    "id": "hWg1HM0QD9dG",
    "outputId": "fcd8d470-0719-405e-fb51-03d85b47a653"
   },
   "outputs": [
    {
     "name": "stdout",
     "output_type": "stream",
     "text": [
      "1\n",
      "0\n",
      "Enter The logic gate to be verified\n",
      "NAND\n",
      "The final outcome is 1\n"
     ]
    }
   ],
   "source": [
    "x1 = int(input())\n",
    "x2 = int(input())\n",
    "\n",
    "print(\"Enter The logic gate to be verified\")\n",
    "th = input()\n",
    "\n",
    "ans = logicgates(x1,x2,th)\n",
    "print(\"The final outcome is\",ans)"
   ]
  },
  {
   "cell_type": "code",
   "execution_count": null,
   "metadata": {},
   "outputs": [],
   "source": []
  }
 ],
 "metadata": {
  "colab": {
   "collapsed_sections": [],
   "name": "190031674-DL-Skill4",
   "provenance": []
  },
  "kernelspec": {
   "display_name": "Python 3",
   "language": "python",
   "name": "python3"
  },
  "language_info": {
   "codemirror_mode": {
    "name": "ipython",
    "version": 3
   },
   "file_extension": ".py",
   "mimetype": "text/x-python",
   "name": "python",
   "nbconvert_exporter": "python",
   "pygments_lexer": "ipython3",
   "version": "3.8.5"
  }
 },
 "nbformat": 4,
 "nbformat_minor": 1
}
