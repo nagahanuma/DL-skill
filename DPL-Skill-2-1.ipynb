{
 "cells": [
  {
   "cell_type": "code",
   "execution_count": 1,
   "metadata": {
    "colab": {
     "base_uri": "https://localhost:8080/"
    },
    "id": "tOwFq2emLU94",
    "outputId": "e705e4d3-b05d-42b9-df18-bd4b5b39ae2a"
   },
   "outputs": [
    {
     "name": "stdout",
     "output_type": "stream",
     "text": [
      "tf.Tensor([ 3  8 15 20], shape=(4,), dtype=int32)\n"
     ]
    }
   ],
   "source": [
    "import tensorflow as tf\n",
    "#Multiplying two matrix\n",
    "A1 = tf.constant([1, 2, 3, 4])\n",
    "B1 = tf.constant([3, 4, 5, 5])\n",
    "C1 = tf.multiply(A1, B1)\n",
    "print(C1)"
   ]
  },
  {
   "cell_type": "code",
   "execution_count": 2,
   "metadata": {
    "colab": {
     "base_uri": "https://localhost:8080/"
    },
    "id": "HrRbQejlMn0_",
    "outputId": "bcc376ed-4a09-47b2-ee17-3eb4a5a6a6c5"
   },
   "outputs": [
    {
     "name": "stdout",
     "output_type": "stream",
     "text": [
      "tf.Tensor([-2 -2 -2 -2], shape=(4,), dtype=int32)\n"
     ]
    }
   ],
   "source": [
    "#Subtract two matix\n",
    "A1 = tf.constant([2,3,4,5])\n",
    "B1 = tf.constant([4,5,6,7])\n",
    "C1 = tf.subtract(A1,B1)\n",
    "print(C1)"
   ]
  },
  {
   "cell_type": "code",
   "execution_count": 3,
   "metadata": {
    "colab": {
     "base_uri": "https://localhost:8080/"
    },
    "id": "DdOxmaGGNG0l",
    "outputId": "965578b6-b581-4b6e-bc2b-a0a311d4d3d1"
   },
   "outputs": [
    {
     "name": "stdout",
     "output_type": "stream",
     "text": [
      "tf.Tensor([13 13 13 13], shape=(4,), dtype=int32)\n"
     ]
    }
   ],
   "source": [
    "#Adding two matrix\n",
    "A1 = tf.constant([9,9,9,9])\n",
    "B1 = tf.constant([4,4,4,4])\n",
    "C1 = tf.add(A1,B1)\n",
    "print(C1)"
   ]
  },
  {
   "cell_type": "code",
   "execution_count": 4,
   "metadata": {
    "colab": {
     "base_uri": "https://localhost:8080/"
    },
    "id": "mYlQu0cZNxfq",
    "outputId": "19c3b39f-e761-4f56-990d-aff4dcd9c043"
   },
   "outputs": [
    {
     "name": "stdout",
     "output_type": "stream",
     "text": [
      "tf.Tensor(\n",
      "[[ 5600]\n",
      " [ 5900]\n",
      " [10550]], shape=(3, 1), dtype=int32)\n"
     ]
    }
   ],
   "source": [
    "# Matrix multiplication : tf.matmul\n",
    "A1 = tf.constant([[2, 24], [2, 26], [2, 57]])\n",
    "B1 = tf.constant([[1000], [150]])\n",
    "C1 = tf.matmul(A1, B1)\n",
    "print(C1)"
   ]
  },
  {
   "cell_type": "code",
   "execution_count": 5,
   "metadata": {
    "colab": {
     "base_uri": "https://localhost:8080/"
    },
    "id": "xGomIH5QOBpr",
    "outputId": "7b9b3593-7585-496b-f63a-483727d876bb"
   },
   "outputs": [
    {
     "name": "stdout",
     "output_type": "stream",
     "text": [
      "tf.Tensor(21, shape=(), dtype=int32)\n"
     ]
    }
   ],
   "source": [
    "#matrix sum\n",
    "A1 = tf.Variable([[1,2,3],[3,2,1], [3,3,3]])\n",
    "B2 = tf.reduce_sum(A1)\n",
    "print(B2)"
   ]
  },
  {
   "cell_type": "code",
   "execution_count": 6,
   "metadata": {
    "colab": {
     "base_uri": "https://localhost:8080/"
    },
    "id": "jjWTJi6cOS0f",
    "outputId": "f4709475-099b-4ec7-f660-d91e68e8facf"
   },
   "outputs": [
    {
     "name": "stdout",
     "output_type": "stream",
     "text": [
      "tf.Tensor([7 7 7], shape=(3,), dtype=int32)\n"
     ]
    }
   ],
   "source": [
    "A1 = tf.Variable([[1,2,3],[3,2,1], [3,3,3]])\n",
    "B3 = tf.reduce_sum(A1, 0)\n",
    "print(B3)"
   ]
  },
  {
   "cell_type": "code",
   "execution_count": 7,
   "metadata": {
    "colab": {
     "base_uri": "https://localhost:8080/"
    },
    "id": "UXkrEFosOez3",
    "outputId": "d8f36e79-6435-4f43-9728-270ad949afed"
   },
   "outputs": [
    {
     "name": "stdout",
     "output_type": "stream",
     "text": [
      "tf.Tensor([ 4 16 20], shape=(3,), dtype=int32)\n"
     ]
    }
   ],
   "source": [
    "A1 = tf.Variable([[1,1,1,1],[4,4,4,4],[5,5,5,5]])\n",
    "B4 = tf.reduce_sum(A1, 1)\n",
    "print(B4)"
   ]
  },
  {
   "cell_type": "code",
   "execution_count": 8,
   "metadata": {
    "colab": {
     "base_uri": "https://localhost:8080/"
    },
    "id": "Yr0usuOOO7F6",
    "outputId": "db5a72b5-9ba1-44d1-a376-bf7e221fefde"
   },
   "outputs": [
    {
     "name": "stdout",
     "output_type": "stream",
     "text": [
      "tf.Tensor([7 7 7], shape=(3,), dtype=int32)\n",
      "Sum of A1 and B2 is: None\n"
     ]
    }
   ],
   "source": [
    "# evaluating node3 and printing the result\n",
    "print(\"Sum of A1 and B2 is:\",print(B3))"
   ]
  },
  {
   "cell_type": "code",
   "execution_count": 9,
   "metadata": {
    "colab": {
     "base_uri": "https://localhost:8080/"
    },
    "id": "JK-c8t33P74X",
    "outputId": "87278176-83af-4ae7-c3e6-f2594321d503"
   },
   "outputs": [
    {
     "data": {
      "text/plain": [
       "[[1.0, 0.0], [0.0, 1.0]]"
      ]
     },
     "execution_count": 9,
     "metadata": {},
     "output_type": "execute_result"
    }
   ],
   "source": [
    "# Construct one identity matrix.\n",
    "tf.eye(2)\n",
    "([[1., 0.], \n",
    "  [0., 1.]])\n"
   ]
  },
  {
   "cell_type": "code",
   "execution_count": 10,
   "metadata": {
    "colab": {
     "base_uri": "https://localhost:8080/"
    },
    "id": "LC7q4990QQpz",
    "outputId": "1e641bd0-5248-498e-8e6b-eb7239525ec8"
   },
   "outputs": [
    {
     "data": {
      "text/plain": [
       "[[1.0, 0.0, 0.0], [0.0, 1.0, 0.0]]"
      ]
     },
     "execution_count": 10,
     "metadata": {},
     "output_type": "execute_result"
    }
   ],
   "source": [
    "# Construct one 2 x 3 \"identity\" matrix\n",
    "tf.eye(2, num_columns=3)\n",
    "([[ 1.,  0.,  0.],[ 0.,  1.,  0.]])"
   ]
  },
  {
   "cell_type": "code",
   "execution_count": 11,
   "metadata": {
    "colab": {
     "base_uri": "https://localhost:8080/"
    },
    "id": "Krponb95RHUq",
    "outputId": "4dea853a-6d12-4001-8357-74b537f21ff2"
   },
   "outputs": [
    {
     "data": {
      "text/plain": [
       "array([[1, 1, 1],\n",
       "       [1, 1, 1]])"
      ]
     },
     "execution_count": 11,
     "metadata": {},
     "output_type": "execute_result"
    }
   ],
   "source": [
    "x = tf.constant([[1, 1, 1], [1, 1, 1]])\n",
    "x.numpy()"
   ]
  },
  {
   "cell_type": "code",
   "execution_count": 12,
   "metadata": {
    "colab": {
     "base_uri": "https://localhost:8080/"
    },
    "id": "_Fvmq75mQlXq",
    "outputId": "075d54b7-dd76-48a9-dcf7-04fbe357c37d"
   },
   "outputs": [
    {
     "data": {
      "text/plain": [
       "6"
      ]
     },
     "execution_count": 12,
     "metadata": {},
     "output_type": "execute_result"
    }
   ],
   "source": [
    "# sum all the elements\n",
    "tf.reduce_sum(x).numpy()"
   ]
  },
  {
   "cell_type": "code",
   "execution_count": 13,
   "metadata": {
    "colab": {
     "base_uri": "https://localhost:8080/"
    },
    "id": "x6wbisheRTCy",
    "outputId": "ca0b0f13-37fb-4707-d9e1-bd567c5a73a5"
   },
   "outputs": [
    {
     "data": {
      "text/plain": [
       "array([2, 2, 2])"
      ]
     },
     "execution_count": 13,
     "metadata": {},
     "output_type": "execute_result"
    }
   ],
   "source": [
    "# reduce along the first dimension\n",
    "tf.reduce_sum(x, 0).numpy()"
   ]
  },
  {
   "cell_type": "code",
   "execution_count": 14,
   "metadata": {
    "colab": {
     "base_uri": "https://localhost:8080/"
    },
    "id": "kI1jcChjRxZZ",
    "outputId": "4f1a44fe-5885-46bd-dabf-4e6f80331433"
   },
   "outputs": [
    {
     "data": {
      "text/plain": [
       "array([3, 3])"
      ]
     },
     "execution_count": 14,
     "metadata": {},
     "output_type": "execute_result"
    }
   ],
   "source": [
    "# reduce along the second dimension\n",
    "tf.reduce_sum(x, 1).numpy()"
   ]
  },
  {
   "cell_type": "code",
   "execution_count": 15,
   "metadata": {
    "colab": {
     "base_uri": "https://localhost:8080/"
    },
    "id": "WAbA_7JRSYir",
    "outputId": "93d2091c-501a-4ace-dc5e-49b9d1917f8e"
   },
   "outputs": [
    {
     "data": {
      "text/plain": [
       "<tf.Tensor: shape=(), dtype=int32, numpy=0>"
      ]
     },
     "execution_count": 15,
     "metadata": {},
     "output_type": "execute_result"
    }
   ],
   "source": [
    "# returning the min value in the matrix\n",
    "a = tf.constant([[0, 2, 3], [4, 5, 6]])\n",
    "tf.reduce_min(a)"
   ]
  },
  {
   "cell_type": "code",
   "execution_count": 16,
   "metadata": {
    "colab": {
     "base_uri": "https://localhost:8080/"
    },
    "id": "5teY5R_gTXNo",
    "outputId": "6b2e7a7e-b8f0-4be4-f145-937449273d93"
   },
   "outputs": [
    {
     "data": {
      "text/plain": [
       "<tf.Tensor: shape=(), dtype=int32, numpy=1>"
      ]
     },
     "execution_count": 16,
     "metadata": {},
     "output_type": "execute_result"
    }
   ],
   "source": [
    "a = tf.constant([\n",
    "  [[1, 2], [3, 4]],\n",
    "  [[1, 2], [3, 4]]\n",
    "])\n",
    "tf.reduce_min(a)"
   ]
  },
  {
   "cell_type": "code",
   "execution_count": 17,
   "metadata": {
    "colab": {
     "base_uri": "https://localhost:8080/"
    },
    "id": "a-45-kDMTm7T",
    "outputId": "80460a13-ab90-47ee-ac30-19d6b335d187"
   },
   "outputs": [
    {
     "data": {
      "text/plain": [
       "<tf.Tensor: shape=(), dtype=int32, numpy=94>"
      ]
     },
     "execution_count": 17,
     "metadata": {},
     "output_type": "execute_result"
    }
   ],
   "source": [
    "# returning the max value from the matrix\n",
    "a = tf.constant([[1,94,80],[2,49,90]])\n",
    "tf.reduce_max(a)"
   ]
  },
  {
   "cell_type": "code",
   "execution_count": 18,
   "metadata": {
    "colab": {
     "base_uri": "https://localhost:8080/"
    },
    "id": "pChu81kAUkaH",
    "outputId": "c48a1169-5a5f-4a2e-d9af-5458a7fbd7fe"
   },
   "outputs": [
    {
     "data": {
      "text/plain": [
       "<tf.Tensor: shape=(), dtype=float32, numpy=1.375>"
      ]
     },
     "execution_count": 18,
     "metadata": {},
     "output_type": "execute_result"
    }
   ],
   "source": [
    "# return the mean value from the matrix\n",
    "a = tf.constant([[2,0],[1,2.5]])\n",
    "tf.reduce_mean(a)"
   ]
  },
  {
   "cell_type": "code",
   "execution_count": 19,
   "metadata": {
    "colab": {
     "base_uri": "https://localhost:8080/"
    },
    "id": "oDruvMlgVWHz",
    "outputId": "0f887dc7-7cfe-4e7e-c9d7-c09b78427eee"
   },
   "outputs": [
    {
     "data": {
      "text/plain": [
       "<tf.Tensor: shape=(), dtype=int32, numpy=729>"
      ]
     },
     "execution_count": 19,
     "metadata": {},
     "output_type": "execute_result"
    }
   ],
   "source": [
    "# prod operation\n",
    "x = tf.constant([[1,1,1],[9,9,9]])\n",
    "tf.reduce_prod(x)"
   ]
  },
  {
   "cell_type": "code",
   "execution_count": 20,
   "metadata": {
    "id": "kO7UojoSaLH6"
   },
   "outputs": [],
   "source": [
    "# Find area of triangle using tensorflow"
   ]
  },
  {
   "cell_type": "code",
   "execution_count": 21,
   "metadata": {
    "id": "XpVkeGK9adA_"
   },
   "outputs": [],
   "source": [
    "import tensorflow as tf\n",
    "import numpy as np"
   ]
  },
  {
   "cell_type": "code",
   "execution_count": 22,
   "metadata": {
    "colab": {
     "base_uri": "https://localhost:8080/"
    },
    "id": "q3crj351iD0y",
    "outputId": "632b74fc-7f0d-4a21-9a93-d074ae68148c"
   },
   "outputs": [
    {
     "name": "stdout",
     "output_type": "stream",
     "text": [
      "a:  tf.Tensor(2.0, shape=(), dtype=float64)\n",
      "b:  tf.Tensor(4.0, shape=(), dtype=float64)\n",
      "Result:  tf.Tensor(4.0, shape=(), dtype=float64)\n"
     ]
    }
   ],
   "source": [
    "a = tf.constant(2, dtype = tf.float64)\n",
    "b = tf.constant(4, dtype = tf.float64)\n",
    "print('a: ', a)\n",
    "print('b: ', b)\n",
    "res = tf.math.multiply(a,b)/2\n",
    "print('Result: ', res)"
   ]
  },
  {
   "cell_type": "code",
   "execution_count": 23,
   "metadata": {
    "id": "THvUc7yllW9o"
   },
   "outputs": [],
   "source": [
    "# Find the roots of quadratic equation "
   ]
  },
  {
   "cell_type": "code",
   "execution_count": 24,
   "metadata": {
    "id": "tnrahAdljzpR"
   },
   "outputs": [],
   "source": [
    "import tensorflow as tf\n",
    "x = tf.constant(2.0)\n",
    "y = tf.constant(1.0)\n",
    "c = tf.constant(1.0)"
   ]
  },
  {
   "cell_type": "code",
   "execution_count": 25,
   "metadata": {
    "colab": {
     "base_uri": "https://localhost:8080/"
    },
    "id": "py2A6xA_PocH",
    "outputId": "89439797-fc86-466d-963c-6051de80b99e"
   },
   "outputs": [
    {
     "name": "stdout",
     "output_type": "stream",
     "text": [
      "tf.Tensor(1, shape=(), dtype=int32)\n"
     ]
    }
   ],
   "source": [
    "import tensorflow as tf\n",
    "h1 = tf.constant(1, name = \"Deep_learning\")\n",
    "print(h1)"
   ]
  },
  {
   "cell_type": "code",
   "execution_count": 26,
   "metadata": {
    "colab": {
     "base_uri": "https://localhost:8080/"
    },
    "id": "o8DpJqdAQWtF",
    "outputId": "c152b532-2bb3-4b58-d6cc-6a1cb893e8d7"
   },
   "outputs": [
    {
     "name": "stdout",
     "output_type": "stream",
     "text": [
      "tf.Tensor(1.1234, shape=(), dtype=float32)\n"
     ]
    }
   ],
   "source": [
    "h2 = tf.constant(1.1234, tf.float32)\n",
    "print(h2)"
   ]
  },
  {
   "cell_type": "code",
   "execution_count": 27,
   "metadata": {
    "colab": {
     "base_uri": "https://localhost:8080/"
    },
    "id": "K_Bdl87DQ2xg",
    "outputId": "6e92feab-b0e0-42a5-a9b8-024ec2c98278"
   },
   "outputs": [
    {
     "name": "stdout",
     "output_type": "stream",
     "text": [
      "tf.Tensor(b'Machine Learning', shape=(), dtype=string)\n"
     ]
    }
   ],
   "source": [
    "h3 = tf.constant(\"Machine Learning\", tf.string)\n",
    "print(h3)"
   ]
  }
 ],
 "metadata": {
  "colab": {
   "collapsed_sections": [],
   "name": "190031674-skill2",
   "provenance": []
  },
  "kernelspec": {
   "display_name": "Python 3",
   "language": "python",
   "name": "python3"
  },
  "language_info": {
   "codemirror_mode": {
    "name": "ipython",
    "version": 3
   },
   "file_extension": ".py",
   "mimetype": "text/x-python",
   "name": "python",
   "nbconvert_exporter": "python",
   "pygments_lexer": "ipython3",
   "version": "3.8.5"
  }
 },
 "nbformat": 4,
 "nbformat_minor": 1
}
