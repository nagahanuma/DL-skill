{
 "cells": [
  {
   "cell_type": "code",
   "execution_count": 1,
   "metadata": {},
   "outputs": [],
   "source": [
    "import numpy as np # linear algebra\n",
    "import pandas as pd # data processing, CSV file I/O (e.g. pd.read_csv)\n",
    "from sklearn import datasets\n",
    "from sklearn.model_selection import train_test_split\n",
    "from sklearn.neighbors import KNeighborsClassifier\n",
    "import seaborn as sns\n",
    "sns.set()\n",
    "import matplotlib.pyplot as plt\n",
    "import os"
   ]
  },
  {
   "cell_type": "code",
   "execution_count": 2,
   "metadata": {},
   "outputs": [],
   "source": [
    "iris_data = pd.read_csv(\"Iris.csv\",index_col='Id')"
   ]
  },
  {
   "cell_type": "code",
   "execution_count": 3,
   "metadata": {},
   "outputs": [
    {
     "name": "stdout",
     "output_type": "stream",
     "text": [
      "<class 'pandas.core.frame.DataFrame'>\n",
      "Int64Index: 150 entries, 1 to 150\n",
      "Data columns (total 5 columns):\n",
      " #   Column         Non-Null Count  Dtype  \n",
      "---  ------         --------------  -----  \n",
      " 0   SepalLengthCm  150 non-null    float64\n",
      " 1   SepalWidthCm   150 non-null    float64\n",
      " 2   PetalLengthCm  150 non-null    float64\n",
      " 3   PetalWidthCm   150 non-null    float64\n",
      " 4   Species        150 non-null    object \n",
      "dtypes: float64(4), object(1)\n",
      "memory usage: 7.0+ KB\n"
     ]
    }
   ],
   "source": [
    "iris_data.info()"
   ]
  },
  {
   "cell_type": "code",
   "execution_count": 4,
   "metadata": {},
   "outputs": [
    {
     "data": {
      "text/html": [
       "<div>\n",
       "<style scoped>\n",
       "    .dataframe tbody tr th:only-of-type {\n",
       "        vertical-align: middle;\n",
       "    }\n",
       "\n",
       "    .dataframe tbody tr th {\n",
       "        vertical-align: top;\n",
       "    }\n",
       "\n",
       "    .dataframe thead th {\n",
       "        text-align: right;\n",
       "    }\n",
       "</style>\n",
       "<table border=\"1\" class=\"dataframe\">\n",
       "  <thead>\n",
       "    <tr style=\"text-align: right;\">\n",
       "      <th></th>\n",
       "      <th>SepalLengthCm</th>\n",
       "      <th>SepalWidthCm</th>\n",
       "      <th>PetalLengthCm</th>\n",
       "      <th>PetalWidthCm</th>\n",
       "    </tr>\n",
       "  </thead>\n",
       "  <tbody>\n",
       "    <tr>\n",
       "      <th>count</th>\n",
       "      <td>150.000000</td>\n",
       "      <td>150.000000</td>\n",
       "      <td>150.000000</td>\n",
       "      <td>150.000000</td>\n",
       "    </tr>\n",
       "    <tr>\n",
       "      <th>mean</th>\n",
       "      <td>5.843333</td>\n",
       "      <td>3.054000</td>\n",
       "      <td>3.758667</td>\n",
       "      <td>1.198667</td>\n",
       "    </tr>\n",
       "    <tr>\n",
       "      <th>std</th>\n",
       "      <td>0.828066</td>\n",
       "      <td>0.433594</td>\n",
       "      <td>1.764420</td>\n",
       "      <td>0.763161</td>\n",
       "    </tr>\n",
       "    <tr>\n",
       "      <th>min</th>\n",
       "      <td>4.300000</td>\n",
       "      <td>2.000000</td>\n",
       "      <td>1.000000</td>\n",
       "      <td>0.100000</td>\n",
       "    </tr>\n",
       "    <tr>\n",
       "      <th>25%</th>\n",
       "      <td>5.100000</td>\n",
       "      <td>2.800000</td>\n",
       "      <td>1.600000</td>\n",
       "      <td>0.300000</td>\n",
       "    </tr>\n",
       "    <tr>\n",
       "      <th>50%</th>\n",
       "      <td>5.800000</td>\n",
       "      <td>3.000000</td>\n",
       "      <td>4.350000</td>\n",
       "      <td>1.300000</td>\n",
       "    </tr>\n",
       "    <tr>\n",
       "      <th>75%</th>\n",
       "      <td>6.400000</td>\n",
       "      <td>3.300000</td>\n",
       "      <td>5.100000</td>\n",
       "      <td>1.800000</td>\n",
       "    </tr>\n",
       "    <tr>\n",
       "      <th>max</th>\n",
       "      <td>7.900000</td>\n",
       "      <td>4.400000</td>\n",
       "      <td>6.900000</td>\n",
       "      <td>2.500000</td>\n",
       "    </tr>\n",
       "  </tbody>\n",
       "</table>\n",
       "</div>"
      ],
      "text/plain": [
       "       SepalLengthCm  SepalWidthCm  PetalLengthCm  PetalWidthCm\n",
       "count     150.000000    150.000000     150.000000    150.000000\n",
       "mean        5.843333      3.054000       3.758667      1.198667\n",
       "std         0.828066      0.433594       1.764420      0.763161\n",
       "min         4.300000      2.000000       1.000000      0.100000\n",
       "25%         5.100000      2.800000       1.600000      0.300000\n",
       "50%         5.800000      3.000000       4.350000      1.300000\n",
       "75%         6.400000      3.300000       5.100000      1.800000\n",
       "max         7.900000      4.400000       6.900000      2.500000"
      ]
     },
     "execution_count": 4,
     "metadata": {},
     "output_type": "execute_result"
    }
   ],
   "source": [
    "iris_data.describe()"
   ]
  },
  {
   "cell_type": "code",
   "execution_count": 5,
   "metadata": {},
   "outputs": [
    {
     "data": {
      "text/html": [
       "<div>\n",
       "<style scoped>\n",
       "    .dataframe tbody tr th:only-of-type {\n",
       "        vertical-align: middle;\n",
       "    }\n",
       "\n",
       "    .dataframe tbody tr th {\n",
       "        vertical-align: top;\n",
       "    }\n",
       "\n",
       "    .dataframe thead th {\n",
       "        text-align: right;\n",
       "    }\n",
       "</style>\n",
       "<table border=\"1\" class=\"dataframe\">\n",
       "  <thead>\n",
       "    <tr style=\"text-align: right;\">\n",
       "      <th></th>\n",
       "      <th>SepalLengthCm</th>\n",
       "      <th>SepalWidthCm</th>\n",
       "      <th>PetalLengthCm</th>\n",
       "      <th>PetalWidthCm</th>\n",
       "      <th>Species</th>\n",
       "    </tr>\n",
       "    <tr>\n",
       "      <th>Id</th>\n",
       "      <th></th>\n",
       "      <th></th>\n",
       "      <th></th>\n",
       "      <th></th>\n",
       "      <th></th>\n",
       "    </tr>\n",
       "  </thead>\n",
       "  <tbody>\n",
       "    <tr>\n",
       "      <th>1</th>\n",
       "      <td>5.1</td>\n",
       "      <td>3.5</td>\n",
       "      <td>1.4</td>\n",
       "      <td>0.2</td>\n",
       "      <td>Iris-setosa</td>\n",
       "    </tr>\n",
       "    <tr>\n",
       "      <th>2</th>\n",
       "      <td>4.9</td>\n",
       "      <td>3.0</td>\n",
       "      <td>1.4</td>\n",
       "      <td>0.2</td>\n",
       "      <td>Iris-setosa</td>\n",
       "    </tr>\n",
       "    <tr>\n",
       "      <th>3</th>\n",
       "      <td>4.7</td>\n",
       "      <td>3.2</td>\n",
       "      <td>1.3</td>\n",
       "      <td>0.2</td>\n",
       "      <td>Iris-setosa</td>\n",
       "    </tr>\n",
       "    <tr>\n",
       "      <th>4</th>\n",
       "      <td>4.6</td>\n",
       "      <td>3.1</td>\n",
       "      <td>1.5</td>\n",
       "      <td>0.2</td>\n",
       "      <td>Iris-setosa</td>\n",
       "    </tr>\n",
       "    <tr>\n",
       "      <th>5</th>\n",
       "      <td>5.0</td>\n",
       "      <td>3.6</td>\n",
       "      <td>1.4</td>\n",
       "      <td>0.2</td>\n",
       "      <td>Iris-setosa</td>\n",
       "    </tr>\n",
       "  </tbody>\n",
       "</table>\n",
       "</div>"
      ],
      "text/plain": [
       "    SepalLengthCm  SepalWidthCm  PetalLengthCm  PetalWidthCm      Species\n",
       "Id                                                                       \n",
       "1             5.1           3.5            1.4           0.2  Iris-setosa\n",
       "2             4.9           3.0            1.4           0.2  Iris-setosa\n",
       "3             4.7           3.2            1.3           0.2  Iris-setosa\n",
       "4             4.6           3.1            1.5           0.2  Iris-setosa\n",
       "5             5.0           3.6            1.4           0.2  Iris-setosa"
      ]
     },
     "execution_count": 5,
     "metadata": {},
     "output_type": "execute_result"
    }
   ],
   "source": [
    "iris_data.head()"
   ]
  },
  {
   "cell_type": "code",
   "execution_count": 6,
   "metadata": {},
   "outputs": [],
   "source": [
    "## Label encoding since the algorithms we are going to use do not take non numerical or boolean data as inputs\n",
    "iris_data.Species.replace({'Iris-setosa':0,'Iris-versicolor':1, 'Iris-virginica':2},inplace=True)"
   ]
  },
  {
   "cell_type": "code",
   "execution_count": 7,
   "metadata": {},
   "outputs": [
    {
     "data": {
      "text/html": [
       "<div>\n",
       "<style scoped>\n",
       "    .dataframe tbody tr th:only-of-type {\n",
       "        vertical-align: middle;\n",
       "    }\n",
       "\n",
       "    .dataframe tbody tr th {\n",
       "        vertical-align: top;\n",
       "    }\n",
       "\n",
       "    .dataframe thead th {\n",
       "        text-align: right;\n",
       "    }\n",
       "</style>\n",
       "<table border=\"1\" class=\"dataframe\">\n",
       "  <thead>\n",
       "    <tr style=\"text-align: right;\">\n",
       "      <th></th>\n",
       "      <th>SepalLengthCm</th>\n",
       "      <th>SepalWidthCm</th>\n",
       "      <th>PetalLengthCm</th>\n",
       "      <th>PetalWidthCm</th>\n",
       "      <th>Species</th>\n",
       "    </tr>\n",
       "    <tr>\n",
       "      <th>Id</th>\n",
       "      <th></th>\n",
       "      <th></th>\n",
       "      <th></th>\n",
       "      <th></th>\n",
       "      <th></th>\n",
       "    </tr>\n",
       "  </thead>\n",
       "  <tbody>\n",
       "    <tr>\n",
       "      <th>1</th>\n",
       "      <td>5.1</td>\n",
       "      <td>3.5</td>\n",
       "      <td>1.4</td>\n",
       "      <td>0.2</td>\n",
       "      <td>0</td>\n",
       "    </tr>\n",
       "    <tr>\n",
       "      <th>2</th>\n",
       "      <td>4.9</td>\n",
       "      <td>3.0</td>\n",
       "      <td>1.4</td>\n",
       "      <td>0.2</td>\n",
       "      <td>0</td>\n",
       "    </tr>\n",
       "    <tr>\n",
       "      <th>3</th>\n",
       "      <td>4.7</td>\n",
       "      <td>3.2</td>\n",
       "      <td>1.3</td>\n",
       "      <td>0.2</td>\n",
       "      <td>0</td>\n",
       "    </tr>\n",
       "    <tr>\n",
       "      <th>4</th>\n",
       "      <td>4.6</td>\n",
       "      <td>3.1</td>\n",
       "      <td>1.5</td>\n",
       "      <td>0.2</td>\n",
       "      <td>0</td>\n",
       "    </tr>\n",
       "    <tr>\n",
       "      <th>5</th>\n",
       "      <td>5.0</td>\n",
       "      <td>3.6</td>\n",
       "      <td>1.4</td>\n",
       "      <td>0.2</td>\n",
       "      <td>0</td>\n",
       "    </tr>\n",
       "  </tbody>\n",
       "</table>\n",
       "</div>"
      ],
      "text/plain": [
       "    SepalLengthCm  SepalWidthCm  PetalLengthCm  PetalWidthCm  Species\n",
       "Id                                                                   \n",
       "1             5.1           3.5            1.4           0.2        0\n",
       "2             4.9           3.0            1.4           0.2        0\n",
       "3             4.7           3.2            1.3           0.2        0\n",
       "4             4.6           3.1            1.5           0.2        0\n",
       "5             5.0           3.6            1.4           0.2        0"
      ]
     },
     "execution_count": 7,
     "metadata": {},
     "output_type": "execute_result"
    }
   ],
   "source": [
    "iris_data.head()"
   ]
  },
  {
   "cell_type": "code",
   "execution_count": 8,
   "metadata": {},
   "outputs": [
    {
     "data": {
      "image/png": "[encoded data removed]",
      "text/plain": [
       "<Figure size 1800x720 with 3 Axes>"
      ]
     },
     "metadata": {},
     "output_type": "display_data"
    }
   ],
   "source": [
    "## null count analysis before modelling to keep check\n",
    "import missingno as msno\n",
    "p=msno.bar(iris_data)"
   ]
  },
  {
   "cell_type": "code",
   "execution_count": 9,
   "metadata": {},
   "outputs": [
    {
     "data": {
      "image/png": "[encoded data removed]",
      "text/plain": [
       "<Figure size 1080x864 with 6 Axes>"
      ]
     },
     "metadata": {},
     "output_type": "display_data"
    }
   ],
   "source": [
    "iris_data.hist(figsize=(15,12),bins = 15)\n",
    "plt.title(\"Features Distribution\")\n",
    "plt.show()"
   ]
  },
  {
   "cell_type": "markdown",
   "metadata": {},
   "source": [
    "# Modelling"
   ]
  },
  {
   "cell_type": "markdown",
   "metadata": {},
   "source": [
    "# 1.) Without PCA"
   ]
  },
  {
   "cell_type": "code",
   "execution_count": 10,
   "metadata": {},
   "outputs": [],
   "source": [
    "X = iris_data.drop(['Species'],axis=1)\n",
    "y = iris_data.Species"
   ]
  },
  {
   "cell_type": "code",
   "execution_count": 11,
   "metadata": {},
   "outputs": [],
   "source": [
    "from sklearn.preprocessing import MinMaxScaler\n",
    "scaler = MinMaxScaler()\n",
    "X=scaler.fit_transform(X)"
   ]
  },
  {
   "cell_type": "code",
   "execution_count": 12,
   "metadata": {},
   "outputs": [],
   "source": [
    "X_train, X_test, y_train, y_test = train_test_split(X, y, test_size = 0.3, random_state=20, stratify=y)"
   ]
  },
  {
   "cell_type": "code",
   "execution_count": 13,
   "metadata": {},
   "outputs": [
    {
     "name": "stdout",
     "output_type": "stream",
     "text": [
      "Train score before PCA 0.9714285714285714 %\n",
      "Test score before PCA 0.9777777777777777 %\n"
     ]
    }
   ],
   "source": [
    "knn = KNeighborsClassifier(7)\n",
    "knn.fit(X_train,y_train)\n",
    "print(\"Train score before PCA\",knn.score(X_train,y_train),\"%\")\n",
    "print(\"Test score before PCA\",knn.score(X_test,y_test),\"%\")"
   ]
  },
  {
   "cell_type": "markdown",
   "metadata": {},
   "source": [
    "# 2.) With PCA"
   ]
  },
  {
   "cell_type": "code",
   "execution_count": 14,
   "metadata": {},
   "outputs": [],
   "source": [
    "from sklearn.decomposition import PCA\n",
    "pca = PCA()\n",
    "X_new = pca.fit_transform(X)"
   ]
  },
  {
   "cell_type": "code",
   "execution_count": 15,
   "metadata": {},
   "outputs": [
    {
     "data": {
      "text/plain": [
       "array([[ 0.05290845, -0.00454496,  0.05996621,  0.05982683],\n",
       "       [-0.00454496,  0.03263959, -0.02271983, -0.02048285],\n",
       "       [ 0.05996621, -0.02271983,  0.08943348,  0.09155279],\n",
       "       [ 0.05982683, -0.02048285,  0.09155279,  0.1011136 ]])"
      ]
     },
     "execution_count": 15,
     "metadata": {},
     "output_type": "execute_result"
    }
   ],
   "source": [
    "pca.get_covariance()"
   ]
  },
  {
   "cell_type": "code",
   "execution_count": 16,
   "metadata": {},
   "outputs": [
    {
     "data": {
      "text/plain": [
       "array([0.84141901, 0.11732474, 0.03490564, 0.00635061])"
      ]
     },
     "execution_count": 16,
     "metadata": {},
     "output_type": "execute_result"
    }
   ],
   "source": [
    "explained_variance=pca.explained_variance_ratio_\n",
    "explained_variance"
   ]
  },
  {
   "cell_type": "code",
   "execution_count": 17,
   "metadata": {},
   "outputs": [
    {
     "data": {
      "image/png": "[encoded data removed]",
      "text/plain": [
       "<Figure size 432x288 with 1 Axes>"
      ]
     },
     "metadata": {},
     "output_type": "display_data"
    }
   ],
   "source": [
    "with plt.style.context('dark_background'):\n",
    "    plt.figure(figsize=(6, 4))\n",
    "\n",
    "    plt.bar(range(4), explained_variance, alpha=0.5, align='center',\n",
    "            label='individual explained variance')\n",
    "    plt.ylabel('Explained variance ratio')\n",
    "    plt.xlabel('Principal components')\n",
    "    plt.legend(loc='best')\n",
    "    plt.tight_layout()"
   ]
  },
  {
   "cell_type": "code",
   "execution_count": 18,
   "metadata": {},
   "outputs": [],
   "source": [
    "pca=PCA(n_components=3)\n",
    "X_new=pca.fit_transform(X)"
   ]
  },
  {
   "cell_type": "code",
   "execution_count": 19,
   "metadata": {},
   "outputs": [],
   "source": [
    "X_train_new, X_test_new, y_train, y_test = train_test_split(X_new, y, test_size = 0.3, random_state=20, stratify=y)"
   ]
  },
  {
   "cell_type": "code",
   "execution_count": 20,
   "metadata": {},
   "outputs": [
    {
     "name": "stdout",
     "output_type": "stream",
     "text": [
      "Train score after PCA 0.9619047619047619 %\n",
      "Test score after PCA 0.9777777777777777 %\n"
     ]
    }
   ],
   "source": [
    "knn_pca = KNeighborsClassifier(7)\n",
    "knn_pca.fit(X_train_new,y_train)\n",
    "print(\"Train score after PCA\",knn_pca.score(X_train_new,y_train),\"%\")\n",
    "print(\"Test score after PCA\",knn_pca.score(X_test_new,y_test),\"%\")"
   ]
  },
  {
   "cell_type": "code",
   "execution_count": 21,
   "metadata": {},
   "outputs": [
    {
     "name": "stderr",
     "output_type": "stream",
     "text": [
      "*c* argument looks like a single numeric RGB or RGBA sequence, which should be avoided as value-mapping will have precedence in case its length matches with *x* & *y*.  Please use the *color* keyword-argument or provide a 2-D array with a single row if you intend to specify the same RGB or RGBA value for all points.\n",
      "*c* argument looks like a single numeric RGB or RGBA sequence, which should be avoided as value-mapping will have precedence in case its length matches with *x* & *y*.  Please use the *color* keyword-argument or provide a 2-D array with a single row if you intend to specify the same RGB or RGBA value for all points.\n",
      "*c* argument looks like a single numeric RGB or RGBA sequence, which should be avoided as value-mapping will have precedence in case its length matches with *x* & *y*.  Please use the *color* keyword-argument or provide a 2-D array with a single row if you intend to specify the same RGB or RGBA value for all points.\n"
     ]
    },
    {
     "data": {
      "image/png": "[encoded data removed]",
      "text/plain": [
       "<Figure size 432x288 with 1 Axes>"
      ]
     },
     "metadata": {},
     "output_type": "display_data"
    }
   ],
   "source": [
    "# Visualising the Test set results\n",
    "classifier = knn_pca\n",
    "from matplotlib.colors import ListedColormap\n",
    "X_set, y_set = X_test_new, y_test\n",
    "X1, X2 = np.meshgrid(np.arange(start = X_set[:, 0].min() - 1, stop = X_set[:, 0].max() + 1, step = 0.01),\n",
    "                     np.arange(start = X_set[:, 1].min() - 1, stop = X_set[:, 1].max() + 1, step = 0.01))\n",
    "plt.contourf(X1, X2, classifier.predict(np.array([X1.ravel(), X2.ravel(),np.zeros((X1.shape[0],X1.shape[1])).ravel()]).T).reshape(X1.shape),\n",
    "             alpha = 0.75, cmap = ListedColormap(('pink', 'lightgreen')))\n",
    "plt.xlim(X1.min(), X1.max())\n",
    "plt.ylim(X2.min(), X2.max())\n",
    "for i, j in enumerate(np.unique(y_set)):\n",
    "    plt.scatter(X_set[y_set == j, 0], X_set[y_set == j, 1],\n",
    "                c = ListedColormap(('red', 'green'))(i), label = j)\n",
    "plt.title('KNN PCA (Test set)')\n",
    "plt.xlabel('PC1')\n",
    "plt.ylabel('PC2')\n",
    "plt.legend()\n",
    "plt.show()"
   ]
  },
  {
   "cell_type": "code",
   "execution_count": null,
   "metadata": {},
   "outputs": [],
   "source": []
  },
  {
   "cell_type": "markdown",
   "metadata": {},
   "source": [
    "# Normalize"
   ]
  },
  {
   "cell_type": "code",
   "execution_count": 22,
   "metadata": {},
   "outputs": [],
   "source": [
    "import pandas as pd\n",
    "import numpy as mp\n",
    "from sklearn.preprocessing import LabelEncoder\n",
    "from sklearn.model_selection import train_test_split\n",
    "import tensorflow as tf\n",
    "from tensorflow.keras import  layers\n",
    "from tensorflow.keras import Sequential\n",
    "from scipy import stats\n",
    "# for min_max scaling\n",
    "from mlxtend.preprocessing import minmax_scaling"
   ]
  },
  {
   "cell_type": "code",
   "execution_count": 23,
   "metadata": {},
   "outputs": [
    {
     "name": "stderr",
     "output_type": "stream",
     "text": [
      "C:\\Users\\K sai tharun\\New folder\\lib\\site-packages\\seaborn\\distributions.py:2551: FutureWarning: `distplot` is a deprecated function and will be removed in a future version. Please adapt your code to use either `displot` (a figure-level function with similar flexibility) or `histplot` (an axes-level function for histograms).\n",
      "  warnings.warn(msg, FutureWarning)\n",
      "C:\\Users\\K sai tharun\\New folder\\lib\\site-packages\\seaborn\\distributions.py:2551: FutureWarning: `distplot` is a deprecated function and will be removed in a future version. Please adapt your code to use either `displot` (a figure-level function with similar flexibility) or `histplot` (an axes-level function for histograms).\n",
      "  warnings.warn(msg, FutureWarning)\n"
     ]
    },
    {
     "data": {
      "text/plain": [
       "Text(0.5, 1.0, 'Scaled data')"
      ]
     },
     "execution_count": 23,
     "metadata": {},
     "output_type": "execute_result"
    },
    {
     "data": {
      "image/png": "[encoded data removed]",
      "text/plain": [
       "<Figure size 432x288 with 2 Axes>"
      ]
     },
     "metadata": {},
     "output_type": "display_data"
    }
   ],
   "source": [
    "# generate 1000 data points randomly drawn from an exponential distribution\n",
    "original_data = np.random.exponential(size = 1000)\n",
    "\n",
    "# mix-max scale the data between 0 and 1\n",
    "scaled_data = minmax_scaling(original_data, columns = [0])\n",
    "\n",
    "# plot both together to compare\n",
    "fig, ax=plt.subplots(1,2)\n",
    "sns.distplot(original_data, ax=ax[0])\n",
    "ax[0].set_title(\"Original Data\")\n",
    "sns.distplot(scaled_data, ax=ax[1])\n",
    "ax[1].set_title(\"Scaled data\")"
   ]
  },
  {
   "cell_type": "code",
   "execution_count": 24,
   "metadata": {},
   "outputs": [
    {
     "name": "stderr",
     "output_type": "stream",
     "text": [
      "C:\\Users\\K sai tharun\\New folder\\lib\\site-packages\\seaborn\\distributions.py:2551: FutureWarning: `distplot` is a deprecated function and will be removed in a future version. Please adapt your code to use either `displot` (a figure-level function with similar flexibility) or `histplot` (an axes-level function for histograms).\n",
      "  warnings.warn(msg, FutureWarning)\n",
      "C:\\Users\\K sai tharun\\New folder\\lib\\site-packages\\seaborn\\distributions.py:2551: FutureWarning: `distplot` is a deprecated function and will be removed in a future version. Please adapt your code to use either `displot` (a figure-level function with similar flexibility) or `histplot` (an axes-level function for histograms).\n",
      "  warnings.warn(msg, FutureWarning)\n"
     ]
    },
    {
     "data": {
      "text/plain": [
       "Text(0.5, 1.0, 'Normalized data')"
      ]
     },
     "execution_count": 24,
     "metadata": {},
     "output_type": "execute_result"
    },
    {
     "data": {
      "image/png": "[encoded data removed]",
      "text/plain": [
       "<Figure size 432x288 with 2 Axes>"
      ]
     },
     "metadata": {},
     "output_type": "display_data"
    }
   ],
   "source": [
    "# normalize the exponential data with boxcox\n",
    "normalized_data = stats.boxcox(original_data)\n",
    "\n",
    "# plot both together to compare\n",
    "fig, ax=plt.subplots(1,2)\n",
    "sns.distplot(original_data, ax=ax[0])\n",
    "ax[0].set_title(\"Original Data\")\n",
    "sns.distplot(normalized_data[0], ax=ax[1])\n",
    "ax[1].set_title(\"Normalized data\")"
   ]
  },
  {
   "cell_type": "code",
   "execution_count": 25,
   "metadata": {},
   "outputs": [],
   "source": [
    "X = iris_data.drop(['Species'],axis=1)\n",
    "y = iris_data.Species"
   ]
  },
  {
   "cell_type": "code",
   "execution_count": 26,
   "metadata": {},
   "outputs": [],
   "source": [
    "X_train,X_test,y_train,y_test=train_test_split(X,y,test_size=0.2)"
   ]
  },
  {
   "cell_type": "code",
   "execution_count": 27,
   "metadata": {},
   "outputs": [
    {
     "name": "stdout",
     "output_type": "stream",
     "text": [
      "(120, 4)\n",
      "(120,)\n",
      "(30, 4)\n",
      "(30,)\n"
     ]
    }
   ],
   "source": [
    "print(X_train.shape)\n",
    "print(y_train.shape)\n",
    "print(X_test.shape)\n",
    "print(y_test.shape)"
   ]
  },
  {
   "cell_type": "code",
   "execution_count": 28,
   "metadata": {},
   "outputs": [],
   "source": [
    "model = Sequential()"
   ]
  },
  {
   "cell_type": "code",
   "execution_count": 29,
   "metadata": {},
   "outputs": [],
   "source": [
    "model.add(layers.Dense(600,activation='sigmoid'))\n",
    "model.add(layers.Dense(300,activation='sigmoid'))\n",
    "model.add(layers.Dense(1,activation='sigmoid'))"
   ]
  },
  {
   "cell_type": "code",
   "execution_count": 30,
   "metadata": {},
   "outputs": [],
   "source": [
    "#model.compile(optimizer='adam',metrics=[tf.keras.metrics.mse,tf.keras.metrics.Precision(),tf.keras.metrics.Recall()],loss='binary_crossentropy')\n",
    "#model.compile(optimizer='adam',loss='binary_crossentropy',metrics=[tf.keras.metrics.Accuracy()])\n",
    "data = model.compile(loss='binary_crossentropy', optimizer='adam', metrics=['accuracy'])\n"
   ]
  },
  {
   "cell_type": "code",
   "execution_count": 31,
   "metadata": {},
   "outputs": [
    {
     "name": "stdout",
     "output_type": "stream",
     "text": [
      "Epoch 1/100\n",
      "4/4 [==============================] - 1s 49ms/step - loss: 0.4340 - accuracy: 0.3000 - val_loss: 1.1336 - val_accuracy: 0.3333\n",
      "Epoch 2/100\n",
      "4/4 [==============================] - 0s 8ms/step - loss: -0.3644 - accuracy: 0.3333 - val_loss: 1.7594 - val_accuracy: 0.3333\n",
      "Epoch 3/100\n",
      "4/4 [==============================] - 0s 8ms/step - loss: -0.5123 - accuracy: 0.3333 - val_loss: 2.1493 - val_accuracy: 0.3333\n",
      "Epoch 4/100\n",
      "4/4 [==============================] - 0s 8ms/step - loss: -0.6798 - accuracy: 0.3333 - val_loss: 2.3262 - val_accuracy: 0.3333\n",
      "Epoch 5/100\n",
      "4/4 [==============================] - 0s 8ms/step - loss: -0.6891 - accuracy: 0.3333 - val_loss: 2.5244 - val_accuracy: 0.3333\n",
      "Epoch 6/100\n",
      "4/4 [==============================] - 0s 8ms/step - loss: -0.7445 - accuracy: 0.3333 - val_loss: 2.6649 - val_accuracy: 0.3333\n",
      "Epoch 7/100\n",
      "4/4 [==============================] - 0s 9ms/step - loss: -0.7818 - accuracy: 0.3333 - val_loss: 2.7800 - val_accuracy: 0.3333\n",
      "Epoch 8/100\n",
      "4/4 [==============================] - 0s 9ms/step - loss: -0.8171 - accuracy: 0.3333 - val_loss: 2.8705 - val_accuracy: 0.3333\n",
      "Epoch 9/100\n",
      "4/4 [==============================] - 0s 10ms/step - loss: -0.8382 - accuracy: 0.3333 - val_loss: 2.9564 - val_accuracy: 0.3333\n",
      "Epoch 10/100\n",
      "4/4 [==============================] - 0s 9ms/step - loss: -0.8552 - accuracy: 0.3333 - val_loss: 3.0411 - val_accuracy: 0.3333\n",
      "Epoch 11/100\n",
      "4/4 [==============================] - 0s 8ms/step - loss: -0.8963 - accuracy: 0.3333 - val_loss: 3.0847 - val_accuracy: 0.3333\n",
      "Epoch 12/100\n",
      "4/4 [==============================] - 0s 8ms/step - loss: -0.9222 - accuracy: 0.3333 - val_loss: 3.1306 - val_accuracy: 0.3333\n",
      "Epoch 13/100\n",
      "4/4 [==============================] - 0s 8ms/step - loss: -0.9502 - accuracy: 0.3333 - val_loss: 3.1715 - val_accuracy: 0.3333\n",
      "Epoch 14/100\n",
      "4/4 [==============================] - 0s 8ms/step - loss: -0.9810 - accuracy: 0.3333 - val_loss: 3.2071 - val_accuracy: 0.3333\n",
      "Epoch 15/100\n",
      "4/4 [==============================] - 0s 8ms/step - loss: -1.0070 - accuracy: 0.3333 - val_loss: 3.2389 - val_accuracy: 0.3333\n",
      "Epoch 16/100\n",
      "4/4 [==============================] - 0s 8ms/step - loss: -1.0540 - accuracy: 0.3333 - val_loss: 3.2130 - val_accuracy: 0.3333\n",
      "Epoch 17/100\n",
      "4/4 [==============================] - 0s 8ms/step - loss: -1.0995 - accuracy: 0.3333 - val_loss: 3.1702 - val_accuracy: 0.3333\n",
      "Epoch 18/100\n",
      "4/4 [==============================] - 0s 8ms/step - loss: -1.1542 - accuracy: 0.3333 - val_loss: 3.0909 - val_accuracy: 0.3333\n",
      "Epoch 19/100\n",
      "4/4 [==============================] - 0s 8ms/step - loss: -1.2204 - accuracy: 0.3333 - val_loss: 3.0002 - val_accuracy: 0.3333\n",
      "Epoch 20/100\n",
      "4/4 [==============================] - 0s 8ms/step - loss: -1.3066 - accuracy: 0.3333 - val_loss: 2.8130 - val_accuracy: 0.3333\n",
      "Epoch 21/100\n",
      "4/4 [==============================] - 0s 8ms/step - loss: -1.4202 - accuracy: 0.3333 - val_loss: 2.5964 - val_accuracy: 0.3333\n",
      "Epoch 22/100\n",
      "4/4 [==============================] - 0s 8ms/step - loss: -1.5657 - accuracy: 0.3333 - val_loss: 2.3231 - val_accuracy: 0.3333\n",
      "Epoch 23/100\n",
      "4/4 [==============================] - 0s 8ms/step - loss: -1.7538 - accuracy: 0.3333 - val_loss: 1.9358 - val_accuracy: 0.3333\n",
      "Epoch 24/100\n",
      "4/4 [==============================] - 0s 9ms/step - loss: -1.9428 - accuracy: 0.3333 - val_loss: 1.2333 - val_accuracy: 0.3333\n",
      "Epoch 25/100\n",
      "4/4 [==============================] - 0s 9ms/step - loss: -2.2588 - accuracy: 0.3333 - val_loss: 0.9117 - val_accuracy: 0.3333\n",
      "Epoch 26/100\n",
      "4/4 [==============================] - 0s 8ms/step - loss: -2.6603 - accuracy: 0.3333 - val_loss: 0.2813 - val_accuracy: 0.3333\n",
      "Epoch 27/100\n",
      "4/4 [==============================] - 0s 8ms/step - loss: -3.1302 - accuracy: 0.3333 - val_loss: -0.6448 - val_accuracy: 0.3333\n",
      "Epoch 28/100\n",
      "4/4 [==============================] - 0s 9ms/step - loss: -3.6845 - accuracy: 0.3333 - val_loss: -1.4189 - val_accuracy: 0.3333\n",
      "Epoch 29/100\n",
      "4/4 [==============================] - 0s 9ms/step - loss: -4.3119 - accuracy: 0.3333 - val_loss: -2.1238 - val_accuracy: 0.3333\n",
      "Epoch 30/100\n",
      "4/4 [==============================] - 0s 9ms/step - loss: -5.0032 - accuracy: 0.3583 - val_loss: -2.7620 - val_accuracy: 0.5000\n",
      "Epoch 31/100\n",
      "4/4 [==============================] - 0s 9ms/step - loss: -5.6536 - accuracy: 0.3750 - val_loss: -3.0585 - val_accuracy: 0.4000\n",
      "Epoch 32/100\n",
      "4/4 [==============================] - 0s 8ms/step - loss: -6.3807 - accuracy: 0.4333 - val_loss: -3.6022 - val_accuracy: 0.7000\n",
      "Epoch 33/100\n",
      "4/4 [==============================] - 0s 9ms/step - loss: -6.9638 - accuracy: 0.5917 - val_loss: -3.9513 - val_accuracy: 0.7333\n",
      "Epoch 34/100\n",
      "4/4 [==============================] - 0s 10ms/step - loss: -7.5613 - accuracy: 0.5583 - val_loss: -4.2133 - val_accuracy: 0.7000\n",
      "Epoch 35/100\n",
      "4/4 [==============================] - 0s 9ms/step - loss: -8.0810 - accuracy: 0.5833 - val_loss: -4.5199 - val_accuracy: 0.7667\n",
      "Epoch 36/100\n",
      "4/4 [==============================] - 0s 8ms/step - loss: -8.5497 - accuracy: 0.6000 - val_loss: -4.7769 - val_accuracy: 0.7667\n",
      "Epoch 37/100\n",
      "4/4 [==============================] - 0s 8ms/step - loss: -8.9711 - accuracy: 0.5917 - val_loss: -5.0088 - val_accuracy: 0.7667\n",
      "Epoch 38/100\n",
      "4/4 [==============================] - 0s 7ms/step - loss: -9.4166 - accuracy: 0.6167 - val_loss: -5.2545 - val_accuracy: 0.7667\n",
      "Epoch 39/100\n",
      "4/4 [==============================] - 0s 8ms/step - loss: -9.8330 - accuracy: 0.6250 - val_loss: -5.4735 - val_accuracy: 0.7667\n",
      "Epoch 40/100\n",
      "4/4 [==============================] - 0s 8ms/step - loss: -10.2016 - accuracy: 0.6250 - val_loss: -5.6796 - val_accuracy: 0.7667\n",
      "Epoch 41/100\n",
      "4/4 [==============================] - 0s 8ms/step - loss: -10.5848 - accuracy: 0.6250 - val_loss: -5.8732 - val_accuracy: 0.7667\n",
      "Epoch 42/100\n",
      "4/4 [==============================] - 0s 7ms/step - loss: -10.9528 - accuracy: 0.6250 - val_loss: -6.0816 - val_accuracy: 0.7667\n",
      "Epoch 43/100\n",
      "4/4 [==============================] - 0s 8ms/step - loss: -11.3257 - accuracy: 0.6250 - val_loss: -6.2779 - val_accuracy: 0.7667\n",
      "Epoch 44/100\n",
      "4/4 [==============================] - 0s 10ms/step - loss: -11.6711 - accuracy: 0.6250 - val_loss: -6.4581 - val_accuracy: 0.7667\n",
      "Epoch 45/100\n",
      "4/4 [==============================] - 0s 8ms/step - loss: -12.0163 - accuracy: 0.6250 - val_loss: -6.6409 - val_accuracy: 0.7667\n",
      "Epoch 46/100\n",
      "4/4 [==============================] - 0s 7ms/step - loss: -12.3583 - accuracy: 0.6250 - val_loss: -6.8185 - val_accuracy: 0.7667\n",
      "Epoch 47/100\n",
      "4/4 [==============================] - 0s 7ms/step - loss: -12.6802 - accuracy: 0.6250 - val_loss: -7.0083 - val_accuracy: 0.7667\n",
      "Epoch 48/100\n",
      "4/4 [==============================] - 0s 8ms/step - loss: -13.0324 - accuracy: 0.6250 - val_loss: -7.1866 - val_accuracy: 0.7667\n",
      "Epoch 49/100\n",
      "4/4 [==============================] - 0s 8ms/step - loss: -13.3497 - accuracy: 0.6250 - val_loss: -7.3599 - val_accuracy: 0.7667\n",
      "Epoch 50/100\n",
      "4/4 [==============================] - 0s 7ms/step - loss: -13.6552 - accuracy: 0.6250 - val_loss: -7.5256 - val_accuracy: 0.7667\n",
      "Epoch 51/100\n",
      "4/4 [==============================] - 0s 8ms/step - loss: -13.9792 - accuracy: 0.6250 - val_loss: -7.7046 - val_accuracy: 0.7667\n",
      "Epoch 52/100\n",
      "4/4 [==============================] - 0s 8ms/step - loss: -14.2885 - accuracy: 0.6250 - val_loss: -7.8709 - val_accuracy: 0.7667\n",
      "Epoch 53/100\n",
      "4/4 [==============================] - 0s 7ms/step - loss: -14.5889 - accuracy: 0.6250 - val_loss: -8.0425 - val_accuracy: 0.7667\n",
      "Epoch 54/100\n",
      "4/4 [==============================] - ETA: 0s - loss: -12.6134 - accuracy: 0.68 - 0s 7ms/step - loss: -14.9052 - accuracy: 0.6250 - val_loss: -8.2055 - val_accuracy: 0.7667\n",
      "Epoch 55/100\n",
      "4/4 [==============================] - 0s 8ms/step - loss: -15.2034 - accuracy: 0.6250 - val_loss: -8.3692 - val_accuracy: 0.7667\n",
      "Epoch 56/100\n",
      "4/4 [==============================] - 0s 7ms/step - loss: -15.4945 - accuracy: 0.6333 - val_loss: -8.5334 - val_accuracy: 0.7667\n",
      "Epoch 57/100\n",
      "4/4 [==============================] - 0s 8ms/step - loss: -15.7864 - accuracy: 0.6333 - val_loss: -8.6940 - val_accuracy: 0.7667\n",
      "Epoch 58/100\n",
      "4/4 [==============================] - 0s 8ms/step - loss: -16.0778 - accuracy: 0.6333 - val_loss: -8.8480 - val_accuracy: 0.7667\n",
      "Epoch 59/100\n",
      "4/4 [==============================] - 0s 8ms/step - loss: -16.3614 - accuracy: 0.6333 - val_loss: -9.0003 - val_accuracy: 0.7667\n",
      "Epoch 60/100\n",
      "4/4 [==============================] - ETA: 0s - loss: -19.7283 - accuracy: 0.56 - 0s 8ms/step - loss: -16.6339 - accuracy: 0.6333 - val_loss: -9.1594 - val_accuracy: 0.7667\n",
      "Epoch 61/100\n",
      "4/4 [==============================] - 0s 7ms/step - loss: -16.9428 - accuracy: 0.6333 - val_loss: -9.3073 - val_accuracy: 0.7667\n",
      "Epoch 62/100\n",
      "4/4 [==============================] - 0s 8ms/step - loss: -17.2124 - accuracy: 0.6333 - val_loss: -9.4617 - val_accuracy: 0.7667\n",
      "Epoch 63/100\n",
      "4/4 [==============================] - 0s 7ms/step - loss: -17.4997 - accuracy: 0.6333 - val_loss: -9.6108 - val_accuracy: 0.7667\n",
      "Epoch 64/100\n",
      "4/4 [==============================] - 0s 8ms/step - loss: -17.7675 - accuracy: 0.6333 - val_loss: -9.7613 - val_accuracy: 0.7667\n",
      "Epoch 65/100\n",
      "4/4 [==============================] - 0s 7ms/step - loss: -18.0291 - accuracy: 0.6333 - val_loss: -9.9103 - val_accuracy: 0.7667\n",
      "Epoch 66/100\n",
      "4/4 [==============================] - 0s 7ms/step - loss: -18.2976 - accuracy: 0.6333 - val_loss: -10.0550 - val_accuracy: 0.7667\n",
      "Epoch 67/100\n",
      "4/4 [==============================] - 0s 8ms/step - loss: -18.5751 - accuracy: 0.6333 - val_loss: -10.2016 - val_accuracy: 0.7667\n",
      "Epoch 68/100\n",
      "4/4 [==============================] - 0s 7ms/step - loss: -18.8543 - accuracy: 0.6333 - val_loss: -10.3525 - val_accuracy: 0.7667\n",
      "Epoch 69/100\n",
      "4/4 [==============================] - 0s 8ms/step - loss: -19.1073 - accuracy: 0.6333 - val_loss: -10.4970 - val_accuracy: 0.7667\n",
      "Epoch 70/100\n",
      "4/4 [==============================] - 0s 7ms/step - loss: -19.3800 - accuracy: 0.6333 - val_loss: -10.6421 - val_accuracy: 0.7667\n",
      "Epoch 71/100\n",
      "4/4 [==============================] - 0s 8ms/step - loss: -19.6639 - accuracy: 0.6333 - val_loss: -10.7795 - val_accuracy: 0.7667\n",
      "Epoch 72/100\n",
      "4/4 [==============================] - 0s 7ms/step - loss: -19.9043 - accuracy: 0.6333 - val_loss: -10.9159 - val_accuracy: 0.7667\n",
      "Epoch 73/100\n",
      "4/4 [==============================] - 0s 8ms/step - loss: -20.1636 - accuracy: 0.6333 - val_loss: -11.0663 - val_accuracy: 0.7667\n",
      "Epoch 74/100\n",
      "4/4 [==============================] - 0s 7ms/step - loss: -20.4294 - accuracy: 0.6333 - val_loss: -11.2166 - val_accuracy: 0.7667\n",
      "Epoch 75/100\n",
      "4/4 [==============================] - 0s 8ms/step - loss: -20.6903 - accuracy: 0.6333 - val_loss: -11.3576 - val_accuracy: 0.7667\n",
      "Epoch 76/100\n",
      "4/4 [==============================] - 0s 7ms/step - loss: -20.9644 - accuracy: 0.6333 - val_loss: -11.4968 - val_accuracy: 0.7667\n",
      "Epoch 77/100\n",
      "4/4 [==============================] - 0s 7ms/step - loss: -21.2243 - accuracy: 0.6333 - val_loss: -11.6381 - val_accuracy: 0.7667\n",
      "Epoch 78/100\n",
      "4/4 [==============================] - 0s 8ms/step - loss: -21.4768 - accuracy: 0.6333 - val_loss: -11.7784 - val_accuracy: 0.7667\n",
      "Epoch 79/100\n",
      "4/4 [==============================] - 0s 8ms/step - loss: -21.7366 - accuracy: 0.6333 - val_loss: -11.9190 - val_accuracy: 0.7667\n",
      "Epoch 80/100\n",
      "4/4 [==============================] - 0s 8ms/step - loss: -22.0108 - accuracy: 0.6333 - val_loss: -12.0663 - val_accuracy: 0.7667\n",
      "Epoch 81/100\n",
      "4/4 [==============================] - 0s 7ms/step - loss: -22.2571 - accuracy: 0.6333 - val_loss: -12.2123 - val_accuracy: 0.7667\n",
      "Epoch 82/100\n",
      "4/4 [==============================] - 0s 7ms/step - loss: -22.5280 - accuracy: 0.6333 - val_loss: -12.3524 - val_accuracy: 0.7667\n",
      "Epoch 83/100\n",
      "4/4 [==============================] - 0s 9ms/step - loss: -22.7755 - accuracy: 0.6333 - val_loss: -12.4934 - val_accuracy: 0.7667\n",
      "Epoch 84/100\n",
      "4/4 [==============================] - 0s 8ms/step - loss: -23.0432 - accuracy: 0.6333 - val_loss: -12.6280 - val_accuracy: 0.7667\n",
      "Epoch 85/100\n",
      "4/4 [==============================] - 0s 8ms/step - loss: -23.2902 - accuracy: 0.6333 - val_loss: -12.7651 - val_accuracy: 0.7667\n",
      "Epoch 86/100\n",
      "4/4 [==============================] - 0s 8ms/step - loss: -23.5451 - accuracy: 0.6333 - val_loss: -12.9096 - val_accuracy: 0.7667\n",
      "Epoch 87/100\n",
      "4/4 [==============================] - 0s 8ms/step - loss: -23.8149 - accuracy: 0.6333 - val_loss: -13.0564 - val_accuracy: 0.7667\n",
      "Epoch 88/100\n",
      "4/4 [==============================] - 0s 8ms/step - loss: -24.0746 - accuracy: 0.6333 - val_loss: -13.1992 - val_accuracy: 0.7667\n",
      "Epoch 89/100\n",
      "4/4 [==============================] - 0s 8ms/step - loss: -24.3238 - accuracy: 0.6333 - val_loss: -13.3348 - val_accuracy: 0.7667\n",
      "Epoch 90/100\n",
      "4/4 [==============================] - 0s 8ms/step - loss: -24.5795 - accuracy: 0.6333 - val_loss: -13.4762 - val_accuracy: 0.7667\n",
      "Epoch 91/100\n",
      "4/4 [==============================] - 0s 8ms/step - loss: -24.8457 - accuracy: 0.6333 - val_loss: -13.6140 - val_accuracy: 0.7667\n",
      "Epoch 92/100\n",
      "4/4 [==============================] - 0s 8ms/step - loss: -25.1020 - accuracy: 0.6333 - val_loss: -13.7503 - val_accuracy: 0.7667\n",
      "Epoch 93/100\n",
      "4/4 [==============================] - 0s 9ms/step - loss: -25.3592 - accuracy: 0.6333 - val_loss: -13.8947 - val_accuracy: 0.7667\n",
      "Epoch 94/100\n",
      "4/4 [==============================] - 0s 8ms/step - loss: -25.6245 - accuracy: 0.6333 - val_loss: -14.0421 - val_accuracy: 0.7667\n",
      "Epoch 95/100\n",
      "4/4 [==============================] - 0s 8ms/step - loss: -25.8699 - accuracy: 0.6333 - val_loss: -14.1814 - val_accuracy: 0.7667\n",
      "Epoch 96/100\n",
      "4/4 [==============================] - 0s 7ms/step - loss: -26.1380 - accuracy: 0.6333 - val_loss: -14.3232 - val_accuracy: 0.7667\n",
      "Epoch 97/100\n",
      "4/4 [==============================] - 0s 8ms/step - loss: -26.3954 - accuracy: 0.6333 - val_loss: -14.4635 - val_accuracy: 0.7667\n",
      "Epoch 98/100\n",
      "4/4 [==============================] - 0s 8ms/step - loss: -26.6632 - accuracy: 0.6333 - val_loss: -14.5958 - val_accuracy: 0.7667\n",
      "Epoch 99/100\n",
      "4/4 [==============================] - 0s 8ms/step - loss: -26.9069 - accuracy: 0.6333 - val_loss: -14.7364 - val_accuracy: 0.7667\n",
      "Epoch 100/100\n",
      "4/4 [==============================] - ETA: 0s - loss: -34.6213 - accuracy: 0.53 - 0s 8ms/step - loss: -27.1636 - accuracy: 0.6333 - val_loss: -14.8868 - val_accuracy: 0.7667\n"
     ]
    }
   ],
   "source": [
    "data = model.fit(X_train,y_train,epochs=100,validation_data=(X_test,y_test))\n"
   ]
  },
  {
   "cell_type": "code",
   "execution_count": 32,
   "metadata": {},
   "outputs": [],
   "source": [
    "y_pred = model.predict(X_test)\n"
   ]
  },
  {
   "cell_type": "code",
   "execution_count": 33,
   "metadata": {},
   "outputs": [
    {
     "name": "stdout",
     "output_type": "stream",
     "text": [
      "accuracy:76.67%\n"
     ]
    }
   ],
   "source": [
    "scores = model.evaluate(X_test, y_test, verbose=0)\n",
    "print(\"%s%.2f%%\" % (\"accuracy:\",scores[1]*100))"
   ]
  },
  {
   "cell_type": "code",
   "execution_count": 34,
   "metadata": {},
   "outputs": [
    {
     "name": "stdout",
     "output_type": "stream",
     "text": [
      "Epoch 1/100\n",
      "4/4 [==============================] - 0s 42ms/step - loss: -27.6164 - accuracy: 0.6333 - val_loss: -15.3346 - val_accuracy: 0.7667\n",
      "Epoch 2/100\n",
      "4/4 [==============================] - 0s 7ms/step - loss: -28.4495 - accuracy: 0.6333 - val_loss: -15.7719 - val_accuracy: 0.7667\n",
      "Epoch 3/100\n",
      "4/4 [==============================] - 0s 8ms/step - loss: -29.2549 - accuracy: 0.6333 - val_loss: -16.1973 - val_accuracy: 0.7667\n",
      "Epoch 4/100\n",
      "4/4 [==============================] - 0s 8ms/step - loss: -30.0569 - accuracy: 0.6333 - val_loss: -16.6248 - val_accuracy: 0.7667\n",
      "Epoch 5/100\n",
      "4/4 [==============================] - 0s 8ms/step - loss: -30.8557 - accuracy: 0.6333 - val_loss: -17.0523 - val_accuracy: 0.7667\n",
      "Epoch 6/100\n",
      "4/4 [==============================] - 0s 8ms/step - loss: -31.6528 - accuracy: 0.6333 - val_loss: -17.4862 - val_accuracy: 0.7667\n",
      "Epoch 7/100\n",
      "4/4 [==============================] - 0s 8ms/step - loss: -32.4525 - accuracy: 0.6250 - val_loss: -17.9239 - val_accuracy: 0.7667\n",
      "Epoch 8/100\n",
      "4/4 [==============================] - 0s 8ms/step - loss: -33.2791 - accuracy: 0.6250 - val_loss: -18.3666 - val_accuracy: 0.7667\n",
      "Epoch 9/100\n",
      "4/4 [==============================] - 0s 8ms/step - loss: -34.0925 - accuracy: 0.6250 - val_loss: -18.8020 - val_accuracy: 0.7667\n",
      "Epoch 10/100\n",
      "4/4 [==============================] - 0s 8ms/step - loss: -34.9070 - accuracy: 0.6250 - val_loss: -19.2496 - val_accuracy: 0.7667\n",
      "Epoch 11/100\n",
      "4/4 [==============================] - 0s 7ms/step - loss: -35.7351 - accuracy: 0.6250 - val_loss: -19.6917 - val_accuracy: 0.7667\n",
      "Epoch 12/100\n",
      "4/4 [==============================] - 0s 8ms/step - loss: -36.5541 - accuracy: 0.6250 - val_loss: -20.1284 - val_accuracy: 0.7667\n",
      "Epoch 13/100\n",
      "4/4 [==============================] - 0s 8ms/step - loss: -37.3634 - accuracy: 0.6250 - val_loss: -20.5654 - val_accuracy: 0.7667\n",
      "Epoch 14/100\n",
      "4/4 [==============================] - 0s 8ms/step - loss: -38.1723 - accuracy: 0.6250 - val_loss: -21.0036 - val_accuracy: 0.7667\n",
      "Epoch 15/100\n",
      "4/4 [==============================] - 0s 8ms/step - loss: -38.9775 - accuracy: 0.6250 - val_loss: -21.4386 - val_accuracy: 0.7667\n",
      "Epoch 16/100\n",
      "4/4 [==============================] - 0s 7ms/step - loss: -39.7734 - accuracy: 0.6250 - val_loss: -21.8817 - val_accuracy: 0.7667\n",
      "Epoch 17/100\n",
      "4/4 [==============================] - 0s 8ms/step - loss: -40.5916 - accuracy: 0.6250 - val_loss: -22.3314 - val_accuracy: 0.7667\n",
      "Epoch 18/100\n",
      "4/4 [==============================] - 0s 7ms/step - loss: -41.4143 - accuracy: 0.6250 - val_loss: -22.7674 - val_accuracy: 0.7667\n",
      "Epoch 19/100\n",
      "4/4 [==============================] - 0s 8ms/step - loss: -42.2168 - accuracy: 0.6250 - val_loss: -23.1997 - val_accuracy: 0.7667\n",
      "Epoch 20/100\n",
      "4/4 [==============================] - 0s 8ms/step - loss: -43.0213 - accuracy: 0.6250 - val_loss: -23.6438 - val_accuracy: 0.7667\n",
      "Epoch 21/100\n",
      "4/4 [==============================] - 0s 7ms/step - loss: -43.8295 - accuracy: 0.6250 - val_loss: -24.0764 - val_accuracy: 0.7667\n",
      "Epoch 22/100\n",
      "4/4 [==============================] - 0s 8ms/step - loss: -44.6287 - accuracy: 0.6250 - val_loss: -24.5035 - val_accuracy: 0.7667\n",
      "Epoch 23/100\n",
      "4/4 [==============================] - 0s 7ms/step - loss: -45.4181 - accuracy: 0.6250 - val_loss: -24.9426 - val_accuracy: 0.7667\n",
      "Epoch 24/100\n",
      "4/4 [==============================] - 0s 8ms/step - loss: -46.2224 - accuracy: 0.6250 - val_loss: -25.3753 - val_accuracy: 0.7667\n",
      "Epoch 25/100\n",
      "4/4 [==============================] - 0s 8ms/step - loss: -47.0202 - accuracy: 0.6250 - val_loss: -25.8169 - val_accuracy: 0.7667\n",
      "Epoch 26/100\n",
      "4/4 [==============================] - 0s 7ms/step - loss: -47.8300 - accuracy: 0.6250 - val_loss: -26.2502 - val_accuracy: 0.7667\n",
      "Epoch 27/100\n",
      "4/4 [==============================] - 0s 7ms/step - loss: -48.6301 - accuracy: 0.6250 - val_loss: -26.6888 - val_accuracy: 0.7667\n",
      "Epoch 28/100\n",
      "4/4 [==============================] - 0s 7ms/step - loss: -49.4318 - accuracy: 0.6250 - val_loss: -27.1244 - val_accuracy: 0.7667\n",
      "Epoch 29/100\n",
      "4/4 [==============================] - 0s 8ms/step - loss: -50.2400 - accuracy: 0.6250 - val_loss: -27.5636 - val_accuracy: 0.7667\n",
      "Epoch 30/100\n",
      "4/4 [==============================] - 0s 8ms/step - loss: -51.0413 - accuracy: 0.6250 - val_loss: -28.0030 - val_accuracy: 0.7667\n",
      "Epoch 31/100\n",
      "4/4 [==============================] - 0s 12ms/step - loss: -51.8480 - accuracy: 0.6250 - val_loss: -28.4437 - val_accuracy: 0.7667\n",
      "Epoch 32/100\n",
      "4/4 [==============================] - 0s 8ms/step - loss: -52.6621 - accuracy: 0.6250 - val_loss: -28.8861 - val_accuracy: 0.7667\n",
      "Epoch 33/100\n",
      "4/4 [==============================] - 0s 9ms/step - loss: -53.4698 - accuracy: 0.6250 - val_loss: -29.3155 - val_accuracy: 0.7667\n",
      "Epoch 34/100\n",
      "4/4 [==============================] - 0s 9ms/step - loss: -54.2657 - accuracy: 0.6250 - val_loss: -29.7632 - val_accuracy: 0.7667\n",
      "Epoch 35/100\n",
      "4/4 [==============================] - 0s 7ms/step - loss: -55.0890 - accuracy: 0.6250 - val_loss: -30.2003 - val_accuracy: 0.7667\n",
      "Epoch 36/100\n",
      "4/4 [==============================] - 0s 8ms/step - loss: -55.8932 - accuracy: 0.6250 - val_loss: -30.6417 - val_accuracy: 0.7667\n",
      "Epoch 37/100\n",
      "4/4 [==============================] - 0s 8ms/step - loss: -56.6975 - accuracy: 0.6250 - val_loss: -31.0873 - val_accuracy: 0.7667\n",
      "Epoch 38/100\n",
      "4/4 [==============================] - 0s 8ms/step - loss: -57.5124 - accuracy: 0.6250 - val_loss: -31.5216 - val_accuracy: 0.7667\n",
      "Epoch 39/100\n",
      "4/4 [==============================] - 0s 7ms/step - loss: -58.3150 - accuracy: 0.6250 - val_loss: -31.9607 - val_accuracy: 0.7667\n",
      "Epoch 40/100\n",
      "4/4 [==============================] - 0s 7ms/step - loss: -59.1190 - accuracy: 0.6250 - val_loss: -32.3994 - val_accuracy: 0.7667\n",
      "Epoch 41/100\n",
      "4/4 [==============================] - 0s 7ms/step - loss: -59.9246 - accuracy: 0.6250 - val_loss: -32.8312 - val_accuracy: 0.7667\n",
      "Epoch 42/100\n",
      "4/4 [==============================] - 0s 8ms/step - loss: -60.7252 - accuracy: 0.6250 - val_loss: -33.2818 - val_accuracy: 0.7667\n",
      "Epoch 43/100\n",
      "4/4 [==============================] - 0s 8ms/step - loss: -61.5542 - accuracy: 0.6250 - val_loss: -33.7210 - val_accuracy: 0.7667\n",
      "Epoch 44/100\n",
      "4/4 [==============================] - 0s 7ms/step - loss: -62.3527 - accuracy: 0.6250 - val_loss: -34.1678 - val_accuracy: 0.7667\n",
      "Epoch 45/100\n",
      "4/4 [==============================] - 0s 7ms/step - loss: -63.1723 - accuracy: 0.6250 - val_loss: -34.6031 - val_accuracy: 0.7667\n",
      "Epoch 46/100\n",
      "4/4 [==============================] - 0s 7ms/step - loss: -63.9755 - accuracy: 0.6250 - val_loss: -35.0490 - val_accuracy: 0.7667\n",
      "Epoch 47/100\n",
      "4/4 [==============================] - 0s 8ms/step - loss: -64.7988 - accuracy: 0.6250 - val_loss: -35.4849 - val_accuracy: 0.7667\n",
      "Epoch 48/100\n",
      "4/4 [==============================] - 0s 7ms/step - loss: -65.5849 - accuracy: 0.6250 - val_loss: -35.9114 - val_accuracy: 0.7667\n",
      "Epoch 49/100\n",
      "4/4 [==============================] - 0s 7ms/step - loss: -66.3836 - accuracy: 0.6250 - val_loss: -36.3507 - val_accuracy: 0.7667\n",
      "Epoch 50/100\n",
      "4/4 [==============================] - 0s 7ms/step - loss: -67.1957 - accuracy: 0.6250 - val_loss: -36.7944 - val_accuracy: 0.7667\n",
      "Epoch 51/100\n",
      "4/4 [==============================] - 0s 7ms/step - loss: -68.0039 - accuracy: 0.6250 - val_loss: -37.2299 - val_accuracy: 0.7667\n",
      "Epoch 52/100\n",
      "4/4 [==============================] - 0s 7ms/step - loss: -68.8068 - accuracy: 0.6250 - val_loss: -37.6717 - val_accuracy: 0.7667\n",
      "Epoch 53/100\n",
      "4/4 [==============================] - 0s 7ms/step - loss: -69.6204 - accuracy: 0.6250 - val_loss: -38.1079 - val_accuracy: 0.7667\n",
      "Epoch 54/100\n",
      "4/4 [==============================] - 0s 6ms/step - loss: -70.4200 - accuracy: 0.6250 - val_loss: -38.5553 - val_accuracy: 0.7667\n",
      "Epoch 55/100\n",
      "4/4 [==============================] - 0s 7ms/step - loss: -71.2407 - accuracy: 0.6250 - val_loss: -39.0116 - val_accuracy: 0.7667\n",
      "Epoch 56/100\n",
      "4/4 [==============================] - 0s 7ms/step - loss: -72.0899 - accuracy: 0.6250 - val_loss: -39.4572 - val_accuracy: 0.7667\n",
      "Epoch 57/100\n",
      "4/4 [==============================] - 0s 7ms/step - loss: -72.9059 - accuracy: 0.6250 - val_loss: -39.9025 - val_accuracy: 0.7667\n",
      "Epoch 58/100\n",
      "4/4 [==============================] - 0s 7ms/step - loss: -73.7216 - accuracy: 0.6250 - val_loss: -40.3365 - val_accuracy: 0.7667\n",
      "Epoch 59/100\n",
      "4/4 [==============================] - 0s 7ms/step - loss: -74.5101 - accuracy: 0.6250 - val_loss: -40.7686 - val_accuracy: 0.7667\n",
      "Epoch 60/100\n",
      "4/4 [==============================] - 0s 8ms/step - loss: -75.3050 - accuracy: 0.6250 - val_loss: -41.2073 - val_accuracy: 0.7667\n",
      "Epoch 61/100\n",
      "4/4 [==============================] - 0s 7ms/step - loss: -76.1018 - accuracy: 0.6250 - val_loss: -41.6518 - val_accuracy: 0.7667\n",
      "Epoch 62/100\n",
      "4/4 [==============================] - 0s 8ms/step - loss: -76.9282 - accuracy: 0.6250 - val_loss: -42.0878 - val_accuracy: 0.7667\n",
      "Epoch 63/100\n",
      "4/4 [==============================] - 0s 7ms/step - loss: -77.7319 - accuracy: 0.6250 - val_loss: -42.5287 - val_accuracy: 0.7667\n",
      "Epoch 64/100\n",
      "4/4 [==============================] - 0s 7ms/step - loss: -78.5337 - accuracy: 0.6250 - val_loss: -42.9667 - val_accuracy: 0.7667\n",
      "Epoch 65/100\n",
      "4/4 [==============================] - 0s 8ms/step - loss: -79.3478 - accuracy: 0.6250 - val_loss: -43.4229 - val_accuracy: 0.7667\n",
      "Epoch 66/100\n",
      "4/4 [==============================] - 0s 7ms/step - loss: -80.1896 - accuracy: 0.6250 - val_loss: -43.8669 - val_accuracy: 0.7667\n",
      "Epoch 67/100\n",
      "4/4 [==============================] - 0s 8ms/step - loss: -81.0086 - accuracy: 0.6250 - val_loss: -44.3131 - val_accuracy: 0.7667\n",
      "Epoch 68/100\n",
      "4/4 [==============================] - 0s 8ms/step - loss: -81.8265 - accuracy: 0.6250 - val_loss: -44.7524 - val_accuracy: 0.7667\n",
      "Epoch 69/100\n",
      "4/4 [==============================] - 0s 8ms/step - loss: -82.6360 - accuracy: 0.6250 - val_loss: -45.1982 - val_accuracy: 0.7667\n",
      "Epoch 70/100\n",
      "4/4 [==============================] - 0s 7ms/step - loss: -83.4518 - accuracy: 0.6250 - val_loss: -45.6340 - val_accuracy: 0.7667\n",
      "Epoch 71/100\n",
      "4/4 [==============================] - 0s 7ms/step - loss: -84.2530 - accuracy: 0.6250 - val_loss: -46.0719 - val_accuracy: 0.7667\n",
      "Epoch 72/100\n",
      "4/4 [==============================] - 0s 8ms/step - loss: -85.0626 - accuracy: 0.6250 - val_loss: -46.5116 - val_accuracy: 0.7667\n",
      "Epoch 73/100\n",
      "4/4 [==============================] - 0s 7ms/step - loss: -85.8698 - accuracy: 0.6250 - val_loss: -46.9619 - val_accuracy: 0.7667\n",
      "Epoch 74/100\n",
      "4/4 [==============================] - 0s 7ms/step - loss: -86.7016 - accuracy: 0.6250 - val_loss: -47.4037 - val_accuracy: 0.7667\n",
      "Epoch 75/100\n",
      "4/4 [==============================] - 0s 8ms/step - loss: -87.5095 - accuracy: 0.6250 - val_loss: -47.8438 - val_accuracy: 0.7667\n",
      "Epoch 76/100\n",
      "4/4 [==============================] - 0s 7ms/step - loss: -88.3149 - accuracy: 0.6250 - val_loss: -48.2846 - val_accuracy: 0.7667\n",
      "Epoch 77/100\n",
      "4/4 [==============================] - 0s 7ms/step - loss: -89.1276 - accuracy: 0.6250 - val_loss: -48.7345 - val_accuracy: 0.7667\n",
      "Epoch 78/100\n",
      "4/4 [==============================] - 0s 7ms/step - loss: -89.9454 - accuracy: 0.6250 - val_loss: -49.1771 - val_accuracy: 0.7667\n",
      "Epoch 79/100\n",
      "4/4 [==============================] - 0s 7ms/step - loss: -90.7623 - accuracy: 0.6250 - val_loss: -49.6131 - val_accuracy: 0.7667\n",
      "Epoch 80/100\n",
      "4/4 [==============================] - 0s 7ms/step - loss: -91.5617 - accuracy: 0.6250 - val_loss: -50.0525 - val_accuracy: 0.7667\n",
      "Epoch 81/100\n",
      "4/4 [==============================] - 0s 7ms/step - loss: -92.3610 - accuracy: 0.6250 - val_loss: -50.4873 - val_accuracy: 0.7667\n",
      "Epoch 82/100\n",
      "4/4 [==============================] - 0s 7ms/step - loss: -93.1609 - accuracy: 0.6250 - val_loss: -50.9239 - val_accuracy: 0.7667\n",
      "Epoch 83/100\n",
      "4/4 [==============================] - 0s 7ms/step - loss: -93.9629 - accuracy: 0.6250 - val_loss: -51.3670 - val_accuracy: 0.7667\n",
      "Epoch 84/100\n",
      "4/4 [==============================] - 0s 8ms/step - loss: -94.7742 - accuracy: 0.6250 - val_loss: -51.8053 - val_accuracy: 0.7667\n",
      "Epoch 85/100\n",
      "4/4 [==============================] - 0s 7ms/step - loss: -95.5836 - accuracy: 0.6250 - val_loss: -52.2443 - val_accuracy: 0.7667\n",
      "Epoch 86/100\n",
      "4/4 [==============================] - 0s 7ms/step - loss: -96.3883 - accuracy: 0.6250 - val_loss: -52.6794 - val_accuracy: 0.7667\n",
      "Epoch 87/100\n",
      "4/4 [==============================] - 0s 7ms/step - loss: -97.1822 - accuracy: 0.6250 - val_loss: -53.1174 - val_accuracy: 0.7667\n",
      "Epoch 88/100\n",
      "4/4 [==============================] - 0s 7ms/step - loss: -97.9861 - accuracy: 0.6250 - val_loss: -53.5527 - val_accuracy: 0.7667\n",
      "Epoch 89/100\n",
      "4/4 [==============================] - 0s 7ms/step - loss: -98.7897 - accuracy: 0.6250 - val_loss: -53.9899 - val_accuracy: 0.7667\n",
      "Epoch 90/100\n",
      "4/4 [==============================] - 0s 7ms/step - loss: -99.5968 - accuracy: 0.6250 - val_loss: -54.4339 - val_accuracy: 0.7667\n",
      "Epoch 91/100\n",
      "4/4 [==============================] - 0s 7ms/step - loss: -100.4026 - accuracy: 0.6250 - val_loss: -54.8624 - val_accuracy: 0.7667\n",
      "Epoch 92/100\n",
      "4/4 [==============================] - 0s 8ms/step - loss: -101.2006 - accuracy: 0.6250 - val_loss: -55.3015 - val_accuracy: 0.7667\n",
      "Epoch 93/100\n",
      "4/4 [==============================] - 0s 7ms/step - loss: -102.0065 - accuracy: 0.6250 - val_loss: -55.7535 - val_accuracy: 0.7667\n",
      "Epoch 94/100\n",
      "4/4 [==============================] - 0s 7ms/step - loss: -102.8461 - accuracy: 0.6250 - val_loss: -56.2003 - val_accuracy: 0.7667\n",
      "Epoch 95/100\n",
      "4/4 [==============================] - 0s 7ms/step - loss: -103.6566 - accuracy: 0.6250 - val_loss: -56.6373 - val_accuracy: 0.7667\n",
      "Epoch 96/100\n",
      "4/4 [==============================] - 0s 7ms/step - loss: -104.4501 - accuracy: 0.6250 - val_loss: -57.0768 - val_accuracy: 0.7667\n",
      "Epoch 97/100\n",
      "4/4 [==============================] - 0s 7ms/step - loss: -105.2575 - accuracy: 0.6250 - val_loss: -57.5172 - val_accuracy: 0.7667\n",
      "Epoch 98/100\n",
      "4/4 [==============================] - 0s 7ms/step - loss: -106.0754 - accuracy: 0.6250 - val_loss: -57.9586 - val_accuracy: 0.7667\n",
      "Epoch 99/100\n",
      "4/4 [==============================] - 0s 7ms/step - loss: -106.8793 - accuracy: 0.6250 - val_loss: -58.3972 - val_accuracy: 0.7667\n",
      "Epoch 100/100\n",
      "4/4 [==============================] - 0s 7ms/step - loss: -107.6758 - accuracy: 0.6250 - val_loss: -58.8436 - val_accuracy: 0.7667\n"
     ]
    }
   ],
   "source": [
    "data = model.compile(loss='binary_crossentropy', optimizer='sgd', metrics=['accuracy'])\n",
    "data = model.fit(X_train,y_train,epochs=100,validation_data=(X_test,y_test))"
   ]
  },
  {
   "cell_type": "code",
   "execution_count": null,
   "metadata": {},
   "outputs": [],
   "source": []
  }
 ],
 "metadata": {
  "hide_input": false,
  "kernelspec": {
   "display_name": "Python 3 (ipykernel)",
   "language": "python",
   "name": "python3"
  },
  "language_info": {
   "codemirror_mode": {
    "name": "ipython",
    "version": 3
   },
   "file_extension": ".py",
   "mimetype": "text/x-python",
   "name": "python",
   "nbconvert_exporter": "python",
   "pygments_lexer": "ipython3",
   "version": "3.9.7"
  },
  "varInspector": {
   "cols": {
    "lenName": 16,
    "lenType": 16,
    "lenVar": 40
   },
   "kernels_config": {
    "python": {
     "delete_cmd_postfix": "",
     "delete_cmd_prefix": "del ",
     "library": "var_list.py",
     "varRefreshCmd": "print(var_dic_list())"
    },
    "r": {
     "delete_cmd_postfix": ") ",
     "delete_cmd_prefix": "rm(",
     "library": "var_list.r",
     "varRefreshCmd": "cat(var_dic_list()) "
    }
   },
   "types_to_exclude": [
    "module",
    "function",
    "builtin_function_or_method",
    "instance",
    "_Feature"
   ],
   "window_display": false
  }
 },
 "nbformat": 4,
 "nbformat_minor": 2
}
